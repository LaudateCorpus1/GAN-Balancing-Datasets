{
 "cells": [
  {
   "cell_type": "code",
   "execution_count": 1,
   "metadata": {},
   "outputs": [
    {
     "name": "stderr",
     "output_type": "stream",
     "text": [
      "Using TensorFlow backend.\n"
     ]
    }
   ],
   "source": [
    "from gan import GAN"
   ]
  },
  {
   "cell_type": "code",
   "execution_count": 2,
   "metadata": {},
   "outputs": [
    {
     "name": "stdout",
     "output_type": "stream",
     "text": [
      "Real neptune attacks:\n",
      "[[ 0 46  0  0  1  4  1  0  0  0 15  0  1  0  0  0  0  0  0  0  0  0  0  0\n",
      "   0  0  0  0  0  1  0  0  0 12  0 15  0  1  0  0  0  0]\n",
      " [ 0 51  0  0  1  2  0  0  0  1 20  0  0  1  0  2  0  0  0  0  0  0  0  0\n",
      "   0  0  0  0  0  0  0  0  1 12  0 20  0  0  1  0  0  0]]\n",
      "[20, 40, 30]\n",
      "0 [D loss: 0.412827, acc.: 54.31%] [G loss: 0.626865] [Loss change:                      0.627, Loss increases: 0]\n",
      "100 [D loss: 0.588431, acc.: 50.39%] [G loss: 0.420256] [Loss change:                      0.003, Loss increases: 0]\n",
      "200 [D loss: 0.615617, acc.: 50.00%] [G loss: 0.385753] [Loss change:                      -0.010, Loss increases: 1]\n",
      "300 [D loss: 0.605248, acc.: 50.00%] [G loss: 0.388323] [Loss change:                      -0.007, Loss increases: 1]\n",
      "400 [D loss: 0.617258, acc.: 50.20%] [G loss: 0.383862] [Loss change:                      -0.004, Loss increases: 0]\n",
      "500 [D loss: 0.585623, acc.: 50.20%] [G loss: 0.392373] [Loss change:                      -0.003, Loss increases: 1]\n",
      "600 [D loss: 0.613394, acc.: 50.00%] [G loss: 0.380969] [Loss change:                      -0.014, Loss increases: 1]\n",
      "700 [D loss: 0.591563, acc.: 49.80%] [G loss: 0.393696] [Loss change:                      -0.006, Loss increases: 2]\n",
      "800 [D loss: 0.609720, acc.: 50.39%] [G loss: 0.405469] [Loss change:                      0.012, Loss increases: 0]\n",
      "900 [D loss: 0.607090, acc.: 50.00%] [G loss: 0.409629] [Loss change:                      0.007, Loss increases: 0]\n",
      "1000 [D loss: 0.584888, acc.: 50.39%] [G loss: 0.423658] [Loss change:                      0.009, Loss increases: 0]\n",
      "1100 [D loss: 0.568131, acc.: 51.96%] [G loss: 0.433311] [Loss change:                      0.005, Loss increases: 0]\n",
      "1200 [D loss: 0.566910, acc.: 51.18%] [G loss: 0.433300] [Loss change:                      -0.001, Loss increases: 1]\n",
      "1300 [D loss: 0.537815, acc.: 51.37%] [G loss: 0.445711] [Loss change:                      0.002, Loss increases: 1]\n",
      "1400 [D loss: 0.554025, acc.: 50.59%] [G loss: 0.443617] [Loss change:                      -0.008, Loss increases: 2]\n",
      "1500 [D loss: 0.571612, acc.: 51.57%] [G loss: 0.452834] [Loss change:                      0.004, Loss increases: 0]\n",
      "1600 [D loss: 0.590989, acc.: 51.76%] [G loss: 0.457249] [Loss change:                      -0.006, Loss increases: 1]\n",
      "1700 [D loss: 0.537030, acc.: 53.14%] [G loss: 0.472933] [Loss change:                      0.015, Loss increases: 1]\n",
      "1800 [D loss: 0.565636, acc.: 52.55%] [G loss: 0.459745] [Loss change:                      -0.007, Loss increases: 3]\n",
      "1900 [D loss: 0.583636, acc.: 52.55%] [G loss: 0.442905] [Loss change:                      -0.003, Loss increases: 0]\n",
      "2000 [D loss: 0.564533, acc.: 53.92%] [G loss: 0.465778] [Loss change:                      0.004, Loss increases: 0]\n",
      "2100 [D loss: 0.551838, acc.: 57.06%] [G loss: 0.473057] [Loss change:                      0.002, Loss increases: 0]\n",
      "2200 [D loss: 0.591588, acc.: 56.67%] [G loss: 0.475993] [Loss change:                      0.007, Loss increases: 1]\n",
      "2300 [D loss: 0.562747, acc.: 59.80%] [G loss: 0.471241] [Loss change:                      0.010, Loss increases: 0]\n",
      "2400 [D loss: 0.579629, acc.: 59.80%] [G loss: 0.480090] [Loss change:                      0.001, Loss increases: 0]\n",
      "2500 [D loss: 0.578811, acc.: 62.35%] [G loss: 0.482732] [Loss change:                      0.006, Loss increases: 0]\n",
      "2600 [D loss: 0.595822, acc.: 61.57%] [G loss: 0.475711] [Loss change:                      -0.006, Loss increases: 1]\n",
      "2700 [D loss: 0.579350, acc.: 63.92%] [G loss: 0.473991] [Loss change:                      0.002, Loss increases: 0]\n",
      "2800 [D loss: 0.631109, acc.: 63.92%] [G loss: 0.481954] [Loss change:                      0.013, Loss increases: 0]\n",
      "2900 [D loss: 0.625187, acc.: 64.31%] [G loss: 0.491984] [Loss change:                      -0.007, Loss increases: 3]\n",
      "3000 [D loss: 0.693685, acc.: 63.92%] [G loss: 0.492010] [Loss change:                      -0.012, Loss increases: 2]\n",
      "3100 [D loss: 0.688465, acc.: 63.14%] [G loss: 0.471960] [Loss change:                      -0.006, Loss increases: 1]\n",
      "3200 [D loss: 0.652093, acc.: 61.76%] [G loss: 0.477352] [Loss change:                      0.004, Loss increases: 1]\n",
      "3300 [D loss: 0.680552, acc.: 60.20%] [G loss: 0.462795] [Loss change:                      -0.003, Loss increases: 0]\n",
      "3400 [D loss: 0.662123, acc.: 60.39%] [G loss: 0.478685] [Loss change:                      0.001, Loss increases: 1]\n",
      "3500 [D loss: 0.782549, acc.: 58.04%] [G loss: 0.420515] [Loss change:                      0.002, Loss increases: 0]\n",
      "3600 [D loss: 0.787323, acc.: 58.82%] [G loss: 0.413809] [Loss change:                      -0.012, Loss increases: 1]\n",
      "Stoping on iteration:  3688\n",
      "Generated neptune attacks: \n",
      "[[ 0. 31.  0.  0.  7.  3.  0.  0.  0.  0.  5.  0.  0.  0.  0.  1.  0.  0.\n",
      "   0.  0.  0.  0.  0.  0.  0.  0.  0.  0.  0.  0.  0.  0.  1. 10.  0.  4.\n",
      "   0.  0.  0.  0.  0.]\n",
      " [ 0.  0.  0.  0.  0.  4.  3.  0.  0.  0.  0.  0.  0.  0.  0.  1.  0.  0.\n",
      "   5.  0.  2.  0.  0.  0.  0.  0.  0.  0.  2.  0.  0.  0.  0.  0.  1.  0.\n",
      "   0.  0.  0.  0.  0.]]\n"
     ]
    }
   ],
   "source": [
    "args = {\n",
    "    'attack_type': \"neptune\",    # optional v\n",
    "    'max_epochs': 7000,\n",
    "    'batch_size': 255,\n",
    "    'sample_size': 500,\n",
    "    'optimizer_learning_rate': 0.0002,\n",
    "    'optimizer_beta': 0.5,\n",
    "    'discriminator_layers': [(30, 'relu'), (15, 'relu')],\n",
    "    'generator_layers': [20, 40, 30],\n",
    "    'generator_alpha': 0.5,\n",
    "    'generator_momentum': 0.8\n",
    "}\n",
    "gan = GAN(**args)\n",
    "gan.train()"
   ]
  },
  {
   "cell_type": "code",
   "execution_count": null,
   "metadata": {},
   "outputs": [],
   "source": []
  }
 ],
 "metadata": {
  "kernelspec": {
   "display_name": "Python 3",
   "language": "python",
   "name": "python3"
  },
  "language_info": {
   "codemirror_mode": {
    "name": "ipython",
    "version": 3
   },
   "file_extension": ".py",
   "mimetype": "text/x-python",
   "name": "python",
   "nbconvert_exporter": "python",
   "pygments_lexer": "ipython3",
   "version": "3.6.7"
  }
 },
 "nbformat": 4,
 "nbformat_minor": 2
}

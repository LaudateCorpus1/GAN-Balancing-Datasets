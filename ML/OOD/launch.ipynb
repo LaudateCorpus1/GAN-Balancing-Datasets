{
 "cells": [
  {
   "cell_type": "code",
   "execution_count": 1,
   "metadata": {},
   "outputs": [
    {
     "name": "stderr",
     "output_type": "stream",
     "text": [
      "Using TensorFlow backend.\n"
     ]
    }
   ],
   "source": [
    "from gan import GAN"
   ]
  },
  {
   "cell_type": "code",
   "execution_count": 2,
   "metadata": {
    "scrolled": false
   },
   "outputs": [
    {
     "name": "stdout",
     "output_type": "stream",
     "text": [
      "Attack type: neptune\n",
      "Real encoded neptune attacks:\n",
      "[[ 0  0 17  2  0  0  0  0  0  0  0  0  0  0  0  0  0  0  0  0  0  0 15 11\n",
      "   1  1  0  0  0  0  0  2 11  0  3  0  0  1  1  0  0  0]]\n",
      "Generator Layers: [8, 16, 32]\n",
      "\n",
      "0 [D loss: 1.064612, acc.: 48.04%] [G loss: 0.652687] [Loss change: 0.653, Loss increases: 0]\n",
      "500 [D loss: 1.195671, acc.: 50.20%] [G loss: 0.187294] [Loss change: 0.187, Loss increases: 0]\n",
      "1000 [D loss: 1.193660, acc.: 50.59%] [G loss: 0.242784] [Loss change: 0.243, Loss increases: 0]\n",
      "1500 [D loss: 1.092290, acc.: 50.78%] [G loss: 0.232857] [Loss change: 0.233, Loss increases: 0]\n",
      "2000 [D loss: 1.337996, acc.: 45.49%] [G loss: 0.264013] [Loss change: 0.264, Loss increases: 0]\n",
      "2500 [D loss: 1.146943, acc.: 50.00%] [G loss: 0.284707] [Loss change: 0.285, Loss increases: 0]\n",
      "3000 [D loss: 1.063486, acc.: 51.76%] [G loss: 0.295362] [Loss change: 0.295, Loss increases: 0]\n",
      "3500 [D loss: 0.970637, acc.: 51.76%] [G loss: 0.344277] [Loss change: 0.344, Loss increases: 0]\n",
      "4000 [D loss: 0.929125, acc.: 51.18%] [G loss: 0.331568] [Loss change: 0.332, Loss increases: 0]\n",
      "4500 [D loss: 0.844181, acc.: 50.78%] [G loss: 0.355910] [Loss change: 0.356, Loss increases: 0]\n",
      "5000 [D loss: 0.792634, acc.: 51.18%] [G loss: 0.373392] [Loss change: 0.373, Loss increases: 0]\n",
      "5500 [D loss: 0.766960, acc.: 50.78%] [G loss: 0.372429] [Loss change: 0.372, Loss increases: 0]\n",
      "6000 [D loss: 0.762525, acc.: 50.00%] [G loss: 0.380038] [Loss change: 0.380, Loss increases: 0]\n",
      "6500 [D loss: 0.792810, acc.: 50.20%] [G loss: 0.364095] [Loss change: 0.364, Loss increases: 0]\n",
      "\n",
      "Generated neptune attacks: \n",
      "[{'id': 1, 'iteration': 1, 'layers': '20,40,30', 'attack': 5, 'accuracy': 66.2745}, {'id': 1, 'iteration': 2, 'layers': '20,40,30', 'attack': 5, 'accuracy': 81.9608}, {'id': 1, 'iteration': 3, 'layers': '20,40,30', 'attack': 5, 'accuracy': 65.2941}, {'id': 1, 'iteration': 4, 'layers': '20,40,30', 'attack': 5, 'accuracy': 83.1373}, {'id': 1, 'iteration': 5, 'layers': '20,40,30', 'attack': 5, 'accuracy': 59.0196}, {'id': 1, 'iteration': 6, 'layers': '20,40,30', 'attack': 5, 'accuracy': 70.3922}, {'id': 1, 'iteration': 7, 'layers': '20,40,30', 'attack': 5, 'accuracy': 56.6667}, {'id': 1, 'iteration': 8, 'layers': '20,40,30', 'attack': 5, 'accuracy': 70.5882}, {'id': 1, 'iteration': 9, 'layers': '20,40,30', 'attack': 5, 'accuracy': 62.3529}, {'id': 0, 'iteration': 1, 'layers': '20,40,30', 'attack': 5, 'accuracy': 55.4902}, {'id': 0, 'iteration': 2, 'layers': '20,40,30', 'attack': 5, 'accuracy': 55.098}]\n",
      "\n",
      "[{'id': 1, 'modelnum': 1, 'iteration': 1, 'attack_type': 5}, {'id': 1, 'modelnum': 1, 'iteration': 2, 'attack_type': 5}, {'id': 1, 'modelnum': 1, 'iteration': 3, 'attack_type': 5}, {'id': 1, 'modelnum': 1, 'iteration': 4, 'attack_type': 5}, {'id': 1, 'modelnum': 1, 'iteration': 5, 'attack_type': 5}, {'id': 1, 'modelnum': 1, 'iteration': 6, 'attack_type': 5}, {'id': 1, 'modelnum': 1, 'iteration': 7, 'attack_type': 5}, {'id': 1, 'modelnum': 1, 'iteration': 8, 'attack_type': 5}, {'id': 1, 'modelnum': 1, 'iteration': 9, 'attack_type': 5}, {'id': 0, 'modelnum': 0, 'iteration': 0, 'attack_type': 5}]\n",
      "\n"
     ]
    }
   ],
   "source": [
    "args = {\n",
    "    'attack_type': \"neptune\",    # optional v\n",
    "    'max_epochs': 7000,\n",
    "    'batch_size': 255,\n",
    "    'sample_size': 500,\n",
    "    'optimizer_learning_rate': 0.001\n",
    "}\n",
    "gan = GAN(**args)\n",
    "gan.train()"
   ]
  },
  {
   "cell_type": "code",
   "execution_count": null,
   "metadata": {},
   "outputs": [],
   "source": []
  }
 ],
 "metadata": {
  "kernelspec": {
   "display_name": "Python 3",
   "language": "python",
   "name": "python3"
  },
  "language_info": {
   "codemirror_mode": {
    "name": "ipython",
    "version": 3
   },
   "file_extension": ".py",
   "mimetype": "text/x-python",
   "name": "python",
   "nbconvert_exporter": "python",
   "pygments_lexer": "ipython3",
   "version": "3.6.7"
  }
 },
 "nbformat": 4,
 "nbformat_minor": 2
}

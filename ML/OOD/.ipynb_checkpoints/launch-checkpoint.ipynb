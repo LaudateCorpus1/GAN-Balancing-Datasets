{
 "cells": [
  {
   "cell_type": "code",
   "execution_count": 1,
   "metadata": {},
   "outputs": [
    {
     "name": "stderr",
     "output_type": "stream",
     "text": [
      "Using TensorFlow backend.\n"
     ]
    }
   ],
   "source": [
    "from gan import GAN"
   ]
  },
  {
   "cell_type": "code",
   "execution_count": null,
   "metadata": {
    "scrolled": false
   },
   "outputs": [
    {
     "name": "stdout",
     "output_type": "stream",
     "text": [
      "Attack type: neptune\n",
      "Real encoded neptune attacks:\n",
      "[[ 0  0 17  2  0  0  0  0  0  0  0  0  0  0  0  0  0  0  0  0  0  0 15 11\n",
      "   1  1  0  0  0  0  0  2 11  0  3  0  0  1  1  0  0  0]]\n",
      "Generator Layers: [8, 16, 32]\n",
      "\n",
      "0 [D loss: 1.064612, acc.: 48.04%] [G loss: 0.652687] [Loss change: 0.653, Loss increases: 0]\n",
      "500 [D loss: 1.195671, acc.: 50.20%] [G loss: 0.187294] [Loss change: 0.187, Loss increases: 0]\n"
     ]
    }
   ],
   "source": [
    "args = {\n",
    "    'attack_type': \"neptune\",    # optional v\n",
    "    'max_epochs': 7000,\n",
    "    'batch_size': 255,\n",
    "    'sample_size': 500,\n",
    "    'optimizer_learning_rate': 0.001\n",
    "}\n",
    "gan = GAN(**args)\n",
    "gan.train()"
   ]
  },
  {
   "cell_type": "code",
   "execution_count": null,
   "metadata": {},
   "outputs": [],
   "source": []
  }
 ],
 "metadata": {
  "kernelspec": {
   "display_name": "Python 3",
   "language": "python",
   "name": "python3"
  },
  "language_info": {
   "codemirror_mode": {
    "name": "ipython",
    "version": 3
   },
   "file_extension": ".py",
   "mimetype": "text/x-python",
   "name": "python",
   "nbconvert_exporter": "python",
   "pygments_lexer": "ipython3",
   "version": "3.6.7"
  }
 },
 "nbformat": 4,
 "nbformat_minor": 2
}
